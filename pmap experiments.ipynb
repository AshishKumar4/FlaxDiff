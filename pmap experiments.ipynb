{
 "cells": [
  {
   "cell_type": "code",
   "execution_count": 15,
   "metadata": {},
   "outputs": [],
   "source": [
    "import jax\n",
    "import jax.numpy as jnp\n",
    "import flax"
   ]
  },
  {
   "cell_type": "code",
   "execution_count": 3,
   "metadata": {},
   "outputs": [],
   "source": [
    "jax.distributed.initialize()"
   ]
  },
  {
   "cell_type": "code",
   "execution_count": 4,
   "metadata": {},
   "outputs": [
    {
     "data": {
      "text/plain": [
       "[TpuDevice(id=0, process_index=0, coords=(0,0,0), core_on_chip=0),\n",
       " TpuDevice(id=1, process_index=0, coords=(1,0,0), core_on_chip=0),\n",
       " TpuDevice(id=2, process_index=0, coords=(0,1,0), core_on_chip=0),\n",
       " TpuDevice(id=3, process_index=0, coords=(1,1,0), core_on_chip=0)]"
      ]
     },
     "execution_count": 4,
     "metadata": {},
     "output_type": "execute_result"
    }
   ],
   "source": [
    "jax.devices()"
   ]
  },
  {
   "cell_type": "code",
   "execution_count": 20,
   "metadata": {},
   "outputs": [
    {
     "name": "stdout",
     "output_type": "stream",
     "text": [
      "[0 0]\n"
     ]
    },
    {
     "data": {
      "text/plain": [
       "(Array([[ 1.1378773 ],\n",
       "        [-0.14331432],\n",
       "        [-0.5915394 ],\n",
       "        [ 0.7946691 ]], dtype=float32),\n",
       " Array([4146024105,  967050713], dtype=uint32))"
      ]
     },
     "execution_count": 20,
     "metadata": {},
     "output_type": "execute_result"
    }
   ],
   "source": [
    "@jax.jit\n",
    "def test(x, rng):\n",
    "    rngs, subkey = jax.random.split(rng)\n",
    "    y = jax.random.normal(subkey, x.shape)\n",
    "    return y, rngs\n",
    "\n",
    "x = jnp.ones((4, 1))\n",
    "rngs = jax.random.PRNGKey(0)\n",
    "print(rngs)\n",
    "\n",
    "test(x, rngs)"
   ]
  },
  {
   "cell_type": "code",
   "execution_count": 21,
   "metadata": {},
   "outputs": [
    {
     "name": "stdout",
     "output_type": "stream",
     "text": [
      "[[0 0]\n",
      " [0 0]\n",
      " [0 0]\n",
      " [0 0]]\n",
      "Traced<ShapedArray(uint32[2])>with<DynamicJaxprTrace(level=0/1)> Traced<ShapedArray(uint32[2])>with<DynamicJaxprTrace(level=0/1)>\n"
     ]
    },
    {
     "data": {
      "text/plain": [
       "(Array([[-1.2515285],\n",
       "        [-1.2515285],\n",
       "        [-1.2515285],\n",
       "        [-1.2515285]], dtype=float32),\n",
       " Array([[4146024105,  967050713],\n",
       "        [4146024105,  967050713],\n",
       "        [4146024105,  967050713],\n",
       "        [4146024105,  967050713]], dtype=uint32))"
      ]
     },
     "execution_count": 21,
     "metadata": {},
     "output_type": "execute_result"
    }
   ],
   "source": [
    "\n",
    "@jax.pmap\n",
    "def test(x, rng):\n",
    "    rngs, subkey = jax.random.split(rng)\n",
    "    y = jax.random.normal(subkey, x.shape)\n",
    "    return y, rngs\n",
    "\n",
    "x = jnp.ones((4, 1))\n",
    "rngs = jax.random.PRNGKey(0)\n",
    "rngs = flax.jax_utils.replicate(rngs)\n",
    "print(rngs)\n",
    "test(x, rngs)"
   ]
  },
  {
   "cell_type": "code",
   "execution_count": 40,
   "metadata": {},
   "outputs": [
    {
     "name": "stdout",
     "output_type": "stream",
     "text": [
      "[[0 0]\n",
      " [0 0]\n",
      " [0 0]\n",
      " [0 0]]\n"
     ]
    },
    {
     "data": {
      "text/plain": [
       "(Array([[ 0.32595065],\n",
       "        [-0.6241612 ],\n",
       "        [ 0.7319309 ],\n",
       "        [-0.865844  ]], dtype=float32),\n",
       " Array([[4146024105,  967050713],\n",
       "        [4146024105,  967050713],\n",
       "        [4146024105,  967050713],\n",
       "        [4146024105,  967050713]], dtype=uint32))"
      ]
     },
     "execution_count": 40,
     "metadata": {},
     "output_type": "execute_result"
    }
   ],
   "source": [
    "\n",
    "@jax.pmap\n",
    "def test(x, rng, indexes):\n",
    "    rngs, subkey = jax.random.split(rng)\n",
    "    subkey = jax.random.fold_in(subkey, indexes)\n",
    "    y = jax.random.normal(subkey, x.shape)\n",
    "    return y, rngs\n",
    "\n",
    "x = jnp.ones((4, 1))\n",
    "rngs = jax.random.PRNGKey(0)\n",
    "rngs = flax.jax_utils.replicate(rngs)\n",
    "indexes = jnp.arange(4)\n",
    "print(rngs)\n",
    "test(x, rngs, indexes)"
   ]
  },
  {
   "cell_type": "code",
   "execution_count": 35,
   "metadata": {},
   "outputs": [
    {
     "data": {
      "text/plain": [
       "Array([ 928981903, 3453687069], dtype=uint32)"
      ]
     },
     "execution_count": 35,
     "metadata": {},
     "output_type": "execute_result"
    }
   ],
   "source": [
    "jax.random.fold_in(jax.random.PRNGKey(0), 1)"
   ]
  },
  {
   "cell_type": "code",
   "execution_count": 27,
   "metadata": {},
   "outputs": [],
   "source": [
    "\n",
    "class MarkovState(flax.struct.PyTreeNode):\n",
    "    pass\n",
    "\n",
    "class RandomMarkovState(MarkovState):\n",
    "    rng: jax.random.PRNGKey\n",
    "\n",
    "    def get_random_key(self):\n",
    "        rng, subkey = jax.random.split(self.rng)\n",
    "        return RandomMarkovState(rng), subkey"
   ]
  },
  {
   "cell_type": "code",
   "execution_count": 32,
   "metadata": {},
   "outputs": [
    {
     "data": {
      "text/plain": [
       "((RandomMarkovState(rng=Array([4146024105,  967050713], dtype=uint32)),\n",
       "  Array([2718843009, 1272950319], dtype=uint32)),\n",
       " (RandomMarkovState(rng=Array([2441914641, 1384938218], dtype=uint32)),\n",
       "  Array([3819641963, 2025898573], dtype=uint32)))"
      ]
     },
     "execution_count": 32,
     "metadata": {},
     "output_type": "execute_result"
    }
   ],
   "source": [
    "a = RandomMarkovState(jax.random.PRNGKey(0))\n",
    "b = RandomMarkovState(jax.random.PRNGKey(1))\n",
    "\n",
    "a.get_random_key(), b.get_random_key()"
   ]
  },
  {
   "cell_type": "code",
   "execution_count": null,
   "metadata": {},
   "outputs": [],
   "source": []
  }
 ],
 "metadata": {
  "kernelspec": {
   "display_name": "Python 3",
   "language": "python",
   "name": "python3"
  },
  "language_info": {
   "codemirror_mode": {
    "name": "ipython",
    "version": 3
   },
   "file_extension": ".py",
   "mimetype": "text/x-python",
   "name": "python",
   "nbconvert_exporter": "python",
   "pygments_lexer": "ipython3",
   "version": "3.10.6"
  }
 },
 "nbformat": 4,
 "nbformat_minor": 2
}
